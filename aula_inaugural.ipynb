{
  "nbformat": 4,
  "nbformat_minor": 0,
  "metadata": {
    "colab": {
      "name": "aula_inaugural.ipynb",
      "provenance": [],
      "include_colab_link": true
    },
    "kernelspec": {
      "name": "python3",
      "display_name": "Python 3"
    },
    "accelerator": "GPU"
  },
  "cells": [
    {
      "cell_type": "markdown",
      "metadata": {
        "id": "view-in-github",
        "colab_type": "text"
      },
      "source": [
        "<a href=\"https://colab.research.google.com/github/simoneperazzoli/IGTI_MLAnalystBootcamp/blob/master/aula_inaugural.ipynb\" target=\"_parent\"><img src=\"https://colab.research.google.com/assets/colab-badge.svg\" alt=\"Open In Colab\"/></a>"
      ]
    },
    {
      "cell_type": "code",
      "metadata": {
        "id": "lMDuEpeJLv0I",
        "colab_type": "code",
        "colab": {}
      },
      "source": [
        "import numpy as np  # biblioteca utilizada para tratar com número/vetores/matrizes\n",
        "import matplotlib.pyplot as plt  # utilizada para plotar gráficos ao \"estilo\" matlab\n",
        "import pandas as pd #biblioteca utilizada para realizar operações sobre dataframes\n"
      ],
      "execution_count": 2,
      "outputs": []
    },
    {
      "cell_type": "code",
      "metadata": {
        "id": "uhdhcNVFN-PE",
        "colab_type": "code",
        "colab": {
          "resources": {
            "http://localhost:8080/nbextensions/google.colab/files.js": {
              "data": "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",
              "ok": true,
              "headers": [
                [
                  "content-type",
                  "application/javascript"
                ]
              ],
              "status": 200,
              "status_text": ""
            }
          },
          "base_uri": "https://localhost:8080/",
          "height": 72
        },
        "outputId": "f11f385b-1506-4ac0-9f5f-a315ff469877"
      },
      "source": [
        "from google.colab import files  #biblioteca do google colab utilizada para importar arquivos \n",
        "uploaded=files.upload() #importa os arquivos"
      ],
      "execution_count": 3,
      "outputs": [
        {
          "output_type": "display_data",
          "data": {
            "text/html": [
              "\n",
              "     <input type=\"file\" id=\"files-d81b963c-16fa-4ec0-b83f-638d3131df48\" name=\"files[]\" multiple disabled\n",
              "        style=\"border:none\" />\n",
              "     <output id=\"result-d81b963c-16fa-4ec0-b83f-638d3131df48\">\n",
              "      Upload widget is only available when the cell has been executed in the\n",
              "      current browser session. Please rerun this cell to enable.\n",
              "      </output>\n",
              "      <script src=\"/nbextensions/google.colab/files.js\"></script> "
            ],
            "text/plain": [
              "<IPython.core.display.HTML object>"
            ]
          },
          "metadata": {
            "tags": []
          }
        },
        {
          "output_type": "stream",
          "text": [
            "Saving AAPL.csv to AAPL.csv\n"
          ],
          "name": "stdout"
        }
      ]
    },
    {
      "cell_type": "code",
      "metadata": {
        "id": "RrarQm9FPLe-",
        "colab_type": "code",
        "colab": {}
      },
      "source": [
        "import io  #biblioteca utilizada para tratar os comandos de entrada e saida\n",
        "data = pd.read_csv(io.BytesIO(uploaded['AAPL.csv'])) # utilizado para importar o arquivo CSV que contém o banco de dados"
      ],
      "execution_count": 4,
      "outputs": []
    },
    {
      "cell_type": "code",
      "metadata": {
        "id": "xksBCxFcPpAX",
        "colab_type": "code",
        "colab": {
          "base_uri": "https://localhost:8080/",
          "height": 204
        },
        "outputId": "47a7ead9-c482-4d05-9a51-a1310fedfca1"
      },
      "source": [
        "data.head() #comando utilizado para mostrar as 5 primeiras colunas do dataframe"
      ],
      "execution_count": 5,
      "outputs": [
        {
          "output_type": "execute_result",
          "data": {
            "text/html": [
              "<div>\n",
              "<style scoped>\n",
              "    .dataframe tbody tr th:only-of-type {\n",
              "        vertical-align: middle;\n",
              "    }\n",
              "\n",
              "    .dataframe tbody tr th {\n",
              "        vertical-align: top;\n",
              "    }\n",
              "\n",
              "    .dataframe thead th {\n",
              "        text-align: right;\n",
              "    }\n",
              "</style>\n",
              "<table border=\"1\" class=\"dataframe\">\n",
              "  <thead>\n",
              "    <tr style=\"text-align: right;\">\n",
              "      <th></th>\n",
              "      <th>Date</th>\n",
              "      <th>Open</th>\n",
              "      <th>High</th>\n",
              "      <th>Low</th>\n",
              "      <th>Close</th>\n",
              "      <th>Adj Close</th>\n",
              "      <th>Volume</th>\n",
              "    </tr>\n",
              "  </thead>\n",
              "  <tbody>\n",
              "    <tr>\n",
              "      <th>0</th>\n",
              "      <td>2013-01-02</td>\n",
              "      <td>79.117142</td>\n",
              "      <td>79.285713</td>\n",
              "      <td>77.375717</td>\n",
              "      <td>78.432854</td>\n",
              "      <td>68.502106</td>\n",
              "      <td>140129500</td>\n",
              "    </tr>\n",
              "    <tr>\n",
              "      <th>1</th>\n",
              "      <td>2013-01-03</td>\n",
              "      <td>78.268570</td>\n",
              "      <td>78.524284</td>\n",
              "      <td>77.285713</td>\n",
              "      <td>77.442856</td>\n",
              "      <td>67.637436</td>\n",
              "      <td>88241300</td>\n",
              "    </tr>\n",
              "    <tr>\n",
              "      <th>2</th>\n",
              "      <td>2013-01-04</td>\n",
              "      <td>76.709999</td>\n",
              "      <td>76.947144</td>\n",
              "      <td>75.118568</td>\n",
              "      <td>75.285713</td>\n",
              "      <td>65.753418</td>\n",
              "      <td>148583400</td>\n",
              "    </tr>\n",
              "    <tr>\n",
              "      <th>3</th>\n",
              "      <td>2013-01-07</td>\n",
              "      <td>74.571426</td>\n",
              "      <td>75.614288</td>\n",
              "      <td>73.599998</td>\n",
              "      <td>74.842857</td>\n",
              "      <td>65.366646</td>\n",
              "      <td>121039100</td>\n",
              "    </tr>\n",
              "    <tr>\n",
              "      <th>4</th>\n",
              "      <td>2013-01-08</td>\n",
              "      <td>75.601425</td>\n",
              "      <td>75.984283</td>\n",
              "      <td>74.464287</td>\n",
              "      <td>75.044289</td>\n",
              "      <td>65.542587</td>\n",
              "      <td>114676800</td>\n",
              "    </tr>\n",
              "  </tbody>\n",
              "</table>\n",
              "</div>"
            ],
            "text/plain": [
              "         Date       Open       High        Low      Close  Adj Close     Volume\n",
              "0  2013-01-02  79.117142  79.285713  77.375717  78.432854  68.502106  140129500\n",
              "1  2013-01-03  78.268570  78.524284  77.285713  77.442856  67.637436   88241300\n",
              "2  2013-01-04  76.709999  76.947144  75.118568  75.285713  65.753418  148583400\n",
              "3  2013-01-07  74.571426  75.614288  73.599998  74.842857  65.366646  121039100\n",
              "4  2013-01-08  75.601425  75.984283  74.464287  75.044289  65.542587  114676800"
            ]
          },
          "metadata": {
            "tags": []
          },
          "execution_count": 5
        }
      ]
    },
    {
      "cell_type": "code",
      "metadata": {
        "id": "VLUdIjnWPxRb",
        "colab_type": "code",
        "colab": {
          "base_uri": "https://localhost:8080/",
          "height": 296
        },
        "outputId": "a2edfc31-2bae-47d5-9dfd-4c7d419e49d3"
      },
      "source": [
        "plt.plot(data[\"Date\"],data[\"Open\"])\n",
        "plt.ylabel(\"Preço\")\n",
        "plt.xlabel(\"Data\")"
      ],
      "execution_count": 6,
      "outputs": [
        {
          "output_type": "execute_result",
          "data": {
            "text/plain": [
              "Text(0.5, 0, 'Data')"
            ]
          },
          "metadata": {
            "tags": []
          },
          "execution_count": 6
        },
        {
          "output_type": "display_data",
          "data": {
            "image/png": "[encoded data removed]",
            "text/plain": [
              "<Figure size 432x288 with 1 Axes>"
            ]
          },
          "metadata": {
            "tags": [],
            "needs_background": "light"
          }
        }
      ]
    },
    {
      "cell_type": "code",
      "metadata": {
        "id": "ZExe9XlurEBH",
        "colab_type": "code",
        "colab": {
          "base_uri": "https://localhost:8080/",
          "height": 282
        },
        "outputId": "31fe5e9e-dbaf-4f43-f496-c243dd6ada58"
      },
      "source": [
        "#comando utilizado para gerar o boxplot\n",
        "#boxplot é empregado para ver se existem outlier\n",
        "data.boxplot(column='Open')"
      ],
      "execution_count": 7,
      "outputs": [
        {
          "output_type": "execute_result",
          "data": {
            "text/plain": [
              "<matplotlib.axes._subplots.AxesSubplot at 0x7f72854eac50>"
            ]
          },
          "metadata": {
            "tags": []
          },
          "execution_count": 7
        },
        {
          "output_type": "display_data",
          "data": {
            "image/png": "[encoded data removed]",
            "text/plain": [
              "<Figure size 432x288 with 1 Axes>"
            ]
          },
          "metadata": {
            "tags": [],
            "needs_background": "light"
          }
        }
      ]
    },
    {
      "cell_type": "code",
      "metadata": {
        "id": "2XHKu_zOrmJL",
        "colab_type": "code",
        "colab": {
          "base_uri": "https://localhost:8080/",
          "height": 255
        },
        "outputId": "9d5c1b62-ff76-4492-d381-cd318f366715"
      },
      "source": [
        "#comando utilizado para verificar se existem dados nulos, numéricos ou não\n",
        "data.info()"
      ],
      "execution_count": 8,
      "outputs": [
        {
          "output_type": "stream",
          "text": [
            "<class 'pandas.core.frame.DataFrame'>\n",
            "RangeIndex: 1509 entries, 0 to 1508\n",
            "Data columns (total 7 columns):\n",
            " #   Column     Non-Null Count  Dtype  \n",
            "---  ------     --------------  -----  \n",
            " 0   Date       1509 non-null   object \n",
            " 1   Open       1509 non-null   float64\n",
            " 2   High       1509 non-null   float64\n",
            " 3   Low        1509 non-null   float64\n",
            " 4   Close      1509 non-null   float64\n",
            " 5   Adj Close  1509 non-null   float64\n",
            " 6   Volume     1509 non-null   int64  \n",
            "dtypes: float64(5), int64(1), object(1)\n",
            "memory usage: 82.6+ KB\n"
          ],
          "name": "stdout"
        }
      ]
    },
    {
      "cell_type": "code",
      "metadata": {
        "id": "VjdjnXa7QnOB",
        "colab_type": "code",
        "colab": {
          "base_uri": "https://localhost:8080/",
          "height": 102
        },
        "outputId": "7239093a-6d72-4ac2-bc1c-c05de6186d06"
      },
      "source": [
        "#preparando os dados para a entrada\n",
        "entradas=data.iloc[:,1:2].values # retira do dataframe apenas a coluna relativa ao preço de abertura das ações\n",
        "entradas[:5] #utilizada para realiar um print apenas das 5 primeiras linhas (pode ser visto que esse é um array, não um dataframe)"
      ],
      "execution_count": 9,
      "outputs": [
        {
          "output_type": "execute_result",
          "data": {
            "text/plain": [
              "array([[79.117142],\n",
              "       [78.26857 ],\n",
              "       [76.709999],\n",
              "       [74.571426],\n",
              "       [75.601425]])"
            ]
          },
          "metadata": {
            "tags": []
          },
          "execution_count": 9
        }
      ]
    },
    {
      "cell_type": "code",
      "metadata": {
        "id": "PsB8un-eafmg",
        "colab_type": "code",
        "colab": {}
      },
      "source": [
        "#normalizando os dados (os algoritmos de ML, em geral, não trabalham bem com dados em escalas diferentes)\n",
        "from sklearn.preprocessing import MinMaxScaler  #biblioteca utilizada para realizar o preprocessamento dos dados\n",
        "scaler = MinMaxScaler(feature_range = (0, 1))    #cria o objeto que será utilizado para realizar a normalização dos dados\n",
        "                                                 # feaure_range = define o intervalo de escala dos dados\n",
        "\n",
        "dados_normalizados = scaler.fit_transform(entradas)  # aplica o método de transformação dos dados"
      ],
      "execution_count": 10,
      "outputs": []
    },
    {
      "cell_type": "code",
      "metadata": {
        "id": "q4ZhQIZ3b3Sl",
        "colab_type": "code",
        "colab": {
          "base_uri": "https://localhost:8080/",
          "height": 102
        },
        "outputId": "252ecd40-07eb-4361-d029-356837854404"
      },
      "source": [
        "dados_normalizados[:5]"
      ],
      "execution_count": 11,
      "outputs": [
        {
          "output_type": "execute_result",
          "data": {
            "text/plain": [
              "array([[0.13511311],\n",
              "       [0.13027396],\n",
              "       [0.12138591],\n",
              "       [0.10919028],\n",
              "       [0.11506405]])"
            ]
          },
          "metadata": {
            "tags": []
          },
          "execution_count": 11
        }
      ]
    },
    {
      "cell_type": "code",
      "metadata": {
        "id": "ph-s1KcJPSsa",
        "colab_type": "code",
        "colab": {}
      },
      "source": [
        "#Como as redes recorrentes utilizam dados no tempo T e valores passados (T-n), a entrada da rede deve conter os \n",
        "#valores presentes e os (T-n). Assim, é necessário realizar uma modificação nos dados\n",
        "features_set = []  \n",
        "labels = []  \n",
        "for i in range(60, 1259):  \n",
        "    features_set.append(dados_normalizados[i-60:i, 0])\n",
        "    labels.append(dados_normalizados[i, 0])"
      ],
      "execution_count": 12,
      "outputs": []
    },
    {
      "cell_type": "code",
      "metadata": {
        "id": "IlfLTYKOdhmw",
        "colab_type": "code",
        "colab": {}
      },
      "source": [
        "#transformando os dados em um array para serem utilizados como entrada\n",
        "features_set, labels = np.array(features_set), np.array(labels)  "
      ],
      "execution_count": 13,
      "outputs": []
    },
    {
      "cell_type": "code",
      "metadata": {
        "id": "rt_20I0ojB_C",
        "colab_type": "code",
        "colab": {
          "base_uri": "https://localhost:8080/",
          "height": 51
        },
        "outputId": "ca06cce9-2477-47d5-cdbd-3c95dbd6a860"
      },
      "source": [
        "#conferindo a dimensão dos dados\n",
        "print(features_set.shape) # método utilizado para retornar a dimensão dos dados\n",
        "print(labels.shape)"
      ],
      "execution_count": 14,
      "outputs": [
        {
          "output_type": "stream",
          "text": [
            "(1199, 60)\n",
            "(1199,)\n"
          ],
          "name": "stdout"
        }
      ]
    },
    {
      "cell_type": "code",
      "metadata": {
        "id": "D75_NAT7kFT4",
        "colab_type": "code",
        "colab": {
          "base_uri": "https://localhost:8080/",
          "height": 34
        },
        "outputId": "8a50551c-90f7-4dbe-995f-491d217fe0be"
      },
      "source": [
        "#transformando os dados para o formato aceito pelas redes recorrentes do Keras\n",
        "# 1 - formato em 3D\n",
        "# (a,b,c) -> a = número de linhas do dataset\n",
        "#         -> b = número de steps (entradas) da rede\n",
        "#         -> c = número de saídas (indicators)\n",
        "\n",
        "# método da biblioteca numpy que é utilizado para converter os dados de entrada (1199,60) em (1199,60,1)\n",
        "features_set = np.reshape(features_set, (features_set.shape[0], features_set.shape[1], 1))  # \n",
        "print(features_set.shape)"
      ],
      "execution_count": 15,
      "outputs": [
        {
          "output_type": "stream",
          "text": [
            "(1199, 60, 1)\n"
          ],
          "name": "stdout"
        }
      ]
    },
    {
      "cell_type": "code",
      "metadata": {
        "id": "mZpDWIatmG7m",
        "colab_type": "code",
        "colab": {
          "base_uri": "https://localhost:8080/",
          "height": 34
        },
        "outputId": "4076d6fc-1110-4ccf-9823-36b3028bfeb5"
      },
      "source": [
        "from keras.models import Sequential  #classe utilizada para criar o modelo sequencial utilizando o keras\n",
        "from keras.layers import Dense  # Classe utilizada para criar as camadas que são completamente conectadas\n",
        "from keras.layers import LSTM  # Classe para a rede recorrente utilizando Long Shor Term Memory\n",
        "from keras.layers import Dropout # Classe utilizada para a camada de dropout (utilizada para evitar o overfiting)"
      ],
      "execution_count": 16,
      "outputs": [
        {
          "output_type": "stream",
          "text": [
            "Using TensorFlow backend.\n"
          ],
          "name": "stderr"
        }
      ]
    },
    {
      "cell_type": "code",
      "metadata": {
        "id": "u7-XIBlEmurs",
        "colab_type": "code",
        "colab": {}
      },
      "source": [
        "model = Sequential()  # objeto para a criação do modelo keras sequencial\n",
        "model.add(LSTM(units=50, return_sequences=True, input_shape=(features_set.shape[1], 1)))  #cria a camada de entrada\n",
        "# como pode ser visto, ela é adicionada como uma pilha, cada nova camada é adicionada com o método add\n",
        "# na camada de entrada, é necessário definir o tamanho do vetor de entrada (input_shape)\n",
        "# units=50 indica que na camada de entrada devem existir 50 neurônios\n",
        "# return_sequences= True indica que devem ser adicionadas novas camadas\n"
      ],
      "execution_count": 17,
      "outputs": []
    },
    {
      "cell_type": "code",
      "metadata": {
        "id": "NE8o5SiSn7wH",
        "colab_type": "code",
        "colab": {}
      },
      "source": [
        "#adição da camada de dropout\n",
        "model.add(Dropout(0.2))  # o valor de 0.2 indica que 20% dos neurônios dessa camada serão perdidos para cada interação"
      ],
      "execution_count": 18,
      "outputs": []
    },
    {
      "cell_type": "code",
      "metadata": {
        "id": "urnv6b3JoJwd",
        "colab_type": "code",
        "colab": {}
      },
      "source": [
        "#Adicionando mais camadas ao modelo \n",
        "model.add(LSTM(units=50, return_sequences=True))  \n",
        "model.add(Dropout(0.2))\n",
        "\n",
        "model.add(LSTM(units=50, return_sequences=True))  \n",
        "model.add(Dropout(0.2))\n",
        "\n",
        "model.add(LSTM(units=50))  # como essa é a última camada LSTM utilizada, a variável return_sequences=False \n",
        "model.add(Dropout(0.2))  "
      ],
      "execution_count": 19,
      "outputs": []
    },
    {
      "cell_type": "code",
      "metadata": {
        "id": "8ptBDLdiok70",
        "colab_type": "code",
        "colab": {}
      },
      "source": [
        "#adiciona a camada de saída com apenas 1 neurônio, pois vamos realizar a previsão de apenas uma variável (Previsão do valor de abertura)\n",
        "model.add(Dense(units = 1))"
      ],
      "execution_count": 20,
      "outputs": []
    },
    {
      "cell_type": "code",
      "metadata": {
        "id": "Qw3EcoiPoz6d",
        "colab_type": "code",
        "colab": {
          "base_uri": "https://localhost:8080/",
          "height": 459
        },
        "outputId": "98d6a372-00c4-47df-98ff-394da6cbad22"
      },
      "source": [
        "#comando utilizado para ver a configuração do nosso modelo\n",
        "model.summary()"
      ],
      "execution_count": 21,
      "outputs": [
        {
          "output_type": "stream",
          "text": [
            "Model: \"sequential_1\"\n",
            "_________________________________________________________________\n",
            "Layer (type)                 Output Shape              Param #   \n",
            "=================================================================\n",
            "lstm_1 (LSTM)                (None, 60, 50)            10400     \n",
            "_________________________________________________________________\n",
            "dropout_1 (Dropout)          (None, 60, 50)            0         \n",
            "_________________________________________________________________\n",
            "lstm_2 (LSTM)                (None, 60, 50)            20200     \n",
            "_________________________________________________________________\n",
            "dropout_2 (Dropout)          (None, 60, 50)            0         \n",
            "_________________________________________________________________\n",
            "lstm_3 (LSTM)                (None, 60, 50)            20200     \n",
            "_________________________________________________________________\n",
            "dropout_3 (Dropout)          (None, 60, 50)            0         \n",
            "_________________________________________________________________\n",
            "lstm_4 (LSTM)                (None, 50)                20200     \n",
            "_________________________________________________________________\n",
            "dropout_4 (Dropout)          (None, 50)                0         \n",
            "_________________________________________________________________\n",
            "dense_1 (Dense)              (None, 1)                 51        \n",
            "=================================================================\n",
            "Total params: 71,051\n",
            "Trainable params: 71,051\n",
            "Non-trainable params: 0\n",
            "_________________________________________________________________\n"
          ],
          "name": "stdout"
        }
      ]
    },
    {
      "cell_type": "code",
      "metadata": {
        "id": "EpQa5EyWpDAl",
        "colab_type": "code",
        "colab": {}
      },
      "source": [
        "#definição do tipo de função perda a ser utilizada e do tipo do otimizador \n",
        "# o otimizador é utilizado para minimizar a função perda\n",
        "# a função perda indica como deve ser calculado o erro do modelo (valor real - valor previsto)\n",
        "model.compile(optimizer = 'adam', loss = 'mean_squared_error')"
      ],
      "execution_count": 22,
      "outputs": []
    },
    {
      "cell_type": "code",
      "metadata": {
        "id": "JCcODp-zplRh",
        "colab_type": "code",
        "colab": {
          "base_uri": "https://localhost:8080/",
          "height": 1000
        },
        "outputId": "06be2e61-1c62-4c34-8002-5c1fa8142254"
      },
      "source": [
        "#treinamento do modelo\n",
        "model.fit(features_set, labels, epochs = 100, batch_size = 32)  \n",
        "# valores de entrada\n",
        "# saída\n",
        "# número épocas para o treinamento (vezes em que vamos realizar interações durante o treinamento)\n",
        "#batch_size = quantidade de dados utilizados por vez para realizar o treinamento"
      ],
      "execution_count": 23,
      "outputs": [
        {
          "output_type": "stream",
          "text": [
            "Epoch 1/100\n",
            "1199/1199 [==============================] - 24s 20ms/step - loss: 0.0187\n",
            "Epoch 2/100\n",
            "1199/1199 [==============================] - 21s 18ms/step - loss: 0.0026\n",
            "Epoch 3/100\n",
            "1199/1199 [==============================] - 21s 18ms/step - loss: 0.0020\n",
            "Epoch 4/100\n",
            "1199/1199 [==============================] - 21s 17ms/step - loss: 0.0018\n",
            "Epoch 5/100\n",
            "1199/1199 [==============================] - 21s 18ms/step - loss: 0.0020\n",
            "Epoch 6/100\n",
            "1199/1199 [==============================] - 21s 18ms/step - loss: 0.0020\n",
            "Epoch 7/100\n",
            "1199/1199 [==============================] - 21s 18ms/step - loss: 0.0018\n",
            "Epoch 8/100\n",
            "1199/1199 [==============================] - 21s 17ms/step - loss: 0.0019\n",
            "Epoch 9/100\n",
            "1199/1199 [==============================] - 21s 18ms/step - loss: 0.0017\n",
            "Epoch 10/100\n",
            "1199/1199 [==============================] - 21s 18ms/step - loss: 0.0021\n",
            "Epoch 11/100\n",
            "1199/1199 [==============================] - 21s 18ms/step - loss: 0.0018\n",
            "Epoch 12/100\n",
            "1199/1199 [==============================] - 21s 18ms/step - loss: 0.0019\n",
            "Epoch 13/100\n",
            "1199/1199 [==============================] - 21s 18ms/step - loss: 0.0018\n",
            "Epoch 14/100\n",
            "1199/1199 [==============================] - 21s 17ms/step - loss: 0.0016\n",
            "Epoch 15/100\n",
            "1199/1199 [==============================] - 21s 17ms/step - loss: 0.0013\n",
            "Epoch 16/100\n",
            "1199/1199 [==============================] - 21s 17ms/step - loss: 0.0013\n",
            "Epoch 17/100\n",
            "1199/1199 [==============================] - 21s 18ms/step - loss: 0.0013\n",
            "Epoch 18/100\n",
            "1199/1199 [==============================] - 21s 18ms/step - loss: 0.0012\n",
            "Epoch 19/100\n",
            "1199/1199 [==============================] - 21s 18ms/step - loss: 0.0012\n",
            "Epoch 20/100\n",
            "1199/1199 [==============================] - 21s 18ms/step - loss: 0.0013\n",
            "Epoch 21/100\n",
            "1199/1199 [==============================] - 21s 17ms/step - loss: 0.0012\n",
            "Epoch 22/100\n",
            "1199/1199 [==============================] - 21s 18ms/step - loss: 0.0012\n",
            "Epoch 23/100\n",
            "1199/1199 [==============================] - 21s 18ms/step - loss: 0.0012\n",
            "Epoch 24/100\n",
            "1199/1199 [==============================] - 21s 18ms/step - loss: 0.0012\n",
            "Epoch 25/100\n",
            "1199/1199 [==============================] - 21s 18ms/step - loss: 0.0010\n",
            "Epoch 26/100\n",
            "1199/1199 [==============================] - 21s 18ms/step - loss: 0.0010\n",
            "Epoch 27/100\n",
            "1199/1199 [==============================] - 21s 18ms/step - loss: 0.0012\n",
            "Epoch 28/100\n",
            "1199/1199 [==============================] - 21s 17ms/step - loss: 9.9554e-04\n",
            "Epoch 29/100\n",
            "1199/1199 [==============================] - 21s 18ms/step - loss: 0.0010\n",
            "Epoch 30/100\n",
            "1199/1199 [==============================] - 21s 18ms/step - loss: 0.0011\n",
            "Epoch 31/100\n",
            "1199/1199 [==============================] - 21s 18ms/step - loss: 9.8689e-04\n",
            "Epoch 32/100\n",
            "1199/1199 [==============================] - 21s 18ms/step - loss: 9.8692e-04\n",
            "Epoch 33/100\n",
            "1199/1199 [==============================] - 21s 18ms/step - loss: 0.0010\n",
            "Epoch 34/100\n",
            "1199/1199 [==============================] - 21s 17ms/step - loss: 0.0011\n",
            "Epoch 35/100\n",
            "1199/1199 [==============================] - 21s 17ms/step - loss: 9.7847e-04\n",
            "Epoch 36/100\n",
            "1199/1199 [==============================] - 21s 17ms/step - loss: 8.7175e-04\n",
            "Epoch 37/100\n",
            "1199/1199 [==============================] - 21s 17ms/step - loss: 8.8128e-04\n",
            "Epoch 38/100\n",
            "1199/1199 [==============================] - 21s 18ms/step - loss: 9.1511e-04\n",
            "Epoch 39/100\n",
            "1199/1199 [==============================] - 21s 18ms/step - loss: 9.2390e-04\n",
            "Epoch 40/100\n",
            "1199/1199 [==============================] - 21s 18ms/step - loss: 8.3491e-04\n",
            "Epoch 41/100\n",
            "1199/1199 [==============================] - 21s 18ms/step - loss: 9.2044e-04\n",
            "Epoch 42/100\n",
            "1199/1199 [==============================] - 21s 18ms/step - loss: 8.1232e-04\n",
            "Epoch 43/100\n",
            "1199/1199 [==============================] - 21s 17ms/step - loss: 8.7903e-04\n",
            "Epoch 44/100\n",
            "1199/1199 [==============================] - 21s 18ms/step - loss: 9.0811e-04\n",
            "Epoch 45/100\n",
            "1199/1199 [==============================] - 21s 18ms/step - loss: 8.6039e-04\n",
            "Epoch 46/100\n",
            "1199/1199 [==============================] - 21s 18ms/step - loss: 8.3261e-04\n",
            "Epoch 47/100\n",
            "1199/1199 [==============================] - 21s 18ms/step - loss: 8.2267e-04\n",
            "Epoch 48/100\n",
            "1199/1199 [==============================] - 21s 17ms/step - loss: 7.3621e-04\n",
            "Epoch 49/100\n",
            "1199/1199 [==============================] - 21s 18ms/step - loss: 8.2507e-04\n",
            "Epoch 50/100\n",
            "1199/1199 [==============================] - 21s 17ms/step - loss: 8.0401e-04\n",
            "Epoch 51/100\n",
            "1199/1199 [==============================] - 21s 17ms/step - loss: 8.6877e-04\n",
            "Epoch 52/100\n",
            "1199/1199 [==============================] - 21s 17ms/step - loss: 7.8368e-04\n",
            "Epoch 53/100\n",
            "1199/1199 [==============================] - 21s 17ms/step - loss: 8.0011e-04\n",
            "Epoch 54/100\n",
            "1199/1199 [==============================] - 21s 17ms/step - loss: 8.1497e-04\n",
            "Epoch 55/100\n",
            "1199/1199 [==============================] - 21s 17ms/step - loss: 7.5716e-04\n",
            "Epoch 56/100\n",
            "1199/1199 [==============================] - 21s 17ms/step - loss: 7.1043e-04\n",
            "Epoch 57/100\n",
            "1199/1199 [==============================] - 21s 17ms/step - loss: 7.2033e-04\n",
            "Epoch 58/100\n",
            "1199/1199 [==============================] - 21s 17ms/step - loss: 7.6619e-04\n",
            "Epoch 59/100\n",
            "1199/1199 [==============================] - 21s 17ms/step - loss: 6.3354e-04\n",
            "Epoch 60/100\n",
            "1199/1199 [==============================] - 21s 17ms/step - loss: 6.0348e-04\n",
            "Epoch 61/100\n",
            "1199/1199 [==============================] - 21s 18ms/step - loss: 7.3708e-04\n",
            "Epoch 62/100\n",
            "1199/1199 [==============================] - 21s 18ms/step - loss: 6.4187e-04\n",
            "Epoch 63/100\n",
            "1199/1199 [==============================] - 21s 18ms/step - loss: 6.7224e-04\n",
            "Epoch 64/100\n",
            "1199/1199 [==============================] - 21s 17ms/step - loss: 6.8558e-04\n",
            "Epoch 65/100\n",
            "1199/1199 [==============================] - 21s 18ms/step - loss: 6.0649e-04\n",
            "Epoch 66/100\n",
            "1199/1199 [==============================] - 21s 18ms/step - loss: 6.0396e-04\n",
            "Epoch 67/100\n",
            "1199/1199 [==============================] - 21s 18ms/step - loss: 6.6472e-04\n",
            "Epoch 68/100\n",
            "1199/1199 [==============================] - 21s 18ms/step - loss: 6.3047e-04\n",
            "Epoch 69/100\n",
            "1199/1199 [==============================] - 21s 18ms/step - loss: 6.8481e-04\n",
            "Epoch 70/100\n",
            "1199/1199 [==============================] - 21s 18ms/step - loss: 6.1598e-04\n",
            "Epoch 71/100\n",
            "1199/1199 [==============================] - 21s 18ms/step - loss: 6.7873e-04\n",
            "Epoch 72/100\n",
            "1199/1199 [==============================] - 21s 18ms/step - loss: 6.3322e-04\n",
            "Epoch 73/100\n",
            "1199/1199 [==============================] - 21s 18ms/step - loss: 6.2054e-04\n",
            "Epoch 74/100\n",
            "1199/1199 [==============================] - 21s 18ms/step - loss: 5.1909e-04\n",
            "Epoch 75/100\n",
            "1199/1199 [==============================] - 21s 18ms/step - loss: 6.2382e-04\n",
            "Epoch 76/100\n",
            "1199/1199 [==============================] - 21s 18ms/step - loss: 6.5518e-04\n",
            "Epoch 77/100\n",
            "1199/1199 [==============================] - 21s 18ms/step - loss: 5.7859e-04\n",
            "Epoch 78/100\n",
            "1199/1199 [==============================] - 21s 18ms/step - loss: 6.6350e-04\n",
            "Epoch 79/100\n",
            "1199/1199 [==============================] - 21s 18ms/step - loss: 6.0552e-04\n",
            "Epoch 80/100\n",
            "1199/1199 [==============================] - 21s 18ms/step - loss: 5.7019e-04\n",
            "Epoch 81/100\n",
            "1199/1199 [==============================] - 21s 17ms/step - loss: 5.6730e-04\n",
            "Epoch 82/100\n",
            "1199/1199 [==============================] - 21s 18ms/step - loss: 5.6234e-04\n",
            "Epoch 83/100\n",
            "1199/1199 [==============================] - 21s 18ms/step - loss: 5.5414e-04\n",
            "Epoch 84/100\n",
            "1199/1199 [==============================] - 21s 18ms/step - loss: 5.7182e-04\n",
            "Epoch 85/100\n",
            "1199/1199 [==============================] - 21s 18ms/step - loss: 6.3556e-04\n",
            "Epoch 86/100\n",
            "1199/1199 [==============================] - 21s 18ms/step - loss: 6.3190e-04\n",
            "Epoch 87/100\n",
            "1199/1199 [==============================] - 21s 18ms/step - loss: 5.3750e-04\n",
            "Epoch 88/100\n",
            "1199/1199 [==============================] - 21s 18ms/step - loss: 5.1882e-04\n",
            "Epoch 89/100\n",
            "1199/1199 [==============================] - 21s 17ms/step - loss: 5.3211e-04\n",
            "Epoch 90/100\n",
            "1199/1199 [==============================] - 21s 18ms/step - loss: 4.9591e-04\n",
            "Epoch 91/100\n",
            "1199/1199 [==============================] - 21s 18ms/step - loss: 5.5927e-04\n",
            "Epoch 92/100\n",
            "1199/1199 [==============================] - 21s 17ms/step - loss: 5.0882e-04\n",
            "Epoch 93/100\n",
            "1199/1199 [==============================] - 21s 17ms/step - loss: 4.7548e-04\n",
            "Epoch 94/100\n",
            "1199/1199 [==============================] - 21s 17ms/step - loss: 6.3515e-04\n",
            "Epoch 95/100\n",
            "1199/1199 [==============================] - 21s 17ms/step - loss: 4.8905e-04\n",
            "Epoch 96/100\n",
            "1199/1199 [==============================] - 21s 18ms/step - loss: 5.4541e-04\n",
            "Epoch 97/100\n",
            "1199/1199 [==============================] - 21s 17ms/step - loss: 4.6991e-04\n",
            "Epoch 98/100\n",
            "1199/1199 [==============================] - 21s 17ms/step - loss: 4.8993e-04\n",
            "Epoch 99/100\n",
            "1199/1199 [==============================] - 21s 17ms/step - loss: 5.1458e-04\n",
            "Epoch 100/100\n",
            "1199/1199 [==============================] - 21s 17ms/step - loss: 5.5048e-04\n"
          ],
          "name": "stdout"
        },
        {
          "output_type": "execute_result",
          "data": {
            "text/plain": [
              "<keras.callbacks.callbacks.History at 0x7f71c7decc88>"
            ]
          },
          "metadata": {
            "tags": []
          },
          "execution_count": 23
        }
      ]
    },
    {
      "cell_type": "code",
      "metadata": {
        "id": "oTAkB8e3s9Nv",
        "colab_type": "code",
        "colab": {
          "resources": {
            "http://localhost:8080/nbextensions/google.colab/files.js": {
              "data": "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",
              "ok": true,
              "headers": [
                [
                  "content-type",
                  "application/javascript"
                ]
              ],
              "status": 200,
              "status_text": ""
            }
          },
          "base_uri": "https://localhost:8080/",
          "height": 72
        },
        "outputId": "b4bfa5f2-5b6e-4f57-97de-4a57b9db0f37"
      },
      "source": [
        "uploaded2=files.upload() #importa os arquivos para o teste dos dados "
      ],
      "execution_count": 25,
      "outputs": [
        {
          "output_type": "display_data",
          "data": {
            "text/html": [
              "\n",
              "     <input type=\"file\" id=\"files-f80fd7ea-0d3b-44ab-a0bc-c3396b4d07a8\" name=\"files[]\" multiple disabled\n",
              "        style=\"border:none\" />\n",
              "     <output id=\"result-f80fd7ea-0d3b-44ab-a0bc-c3396b4d07a8\">\n",
              "      Upload widget is only available when the cell has been executed in the\n",
              "      current browser session. Please rerun this cell to enable.\n",
              "      </output>\n",
              "      <script src=\"/nbextensions/google.colab/files.js\"></script> "
            ],
            "text/plain": [
              "<IPython.core.display.HTML object>"
            ]
          },
          "metadata": {
            "tags": []
          }
        },
        {
          "output_type": "stream",
          "text": [
            "Saving AAPL_previsao.csv to AAPL_previsao.csv\n"
          ],
          "name": "stdout"
        }
      ]
    },
    {
      "cell_type": "code",
      "metadata": {
        "id": "A7jZA_JyzwwH",
        "colab_type": "code",
        "colab": {}
      },
      "source": [
        "data_test = pd.read_csv(io.BytesIO(uploaded2['AAPL_previsao.csv'])) # utilizado para importar o arquivo CSV que contém o banco de dados para teste"
      ],
      "execution_count": 26,
      "outputs": []
    },
    {
      "cell_type": "code",
      "metadata": {
        "id": "6RZd0yZwz7S8",
        "colab_type": "code",
        "colab": {
          "base_uri": "https://localhost:8080/",
          "height": 204
        },
        "outputId": "c6c10877-40b3-48ac-866e-31577439bb22"
      },
      "source": [
        "data_test.head() #verifica as 5 primeiras linhas do dataframe utilizado para teste"
      ],
      "execution_count": 27,
      "outputs": [
        {
          "output_type": "execute_result",
          "data": {
            "text/html": [
              "<div>\n",
              "<style scoped>\n",
              "    .dataframe tbody tr th:only-of-type {\n",
              "        vertical-align: middle;\n",
              "    }\n",
              "\n",
              "    .dataframe tbody tr th {\n",
              "        vertical-align: top;\n",
              "    }\n",
              "\n",
              "    .dataframe thead th {\n",
              "        text-align: right;\n",
              "    }\n",
              "</style>\n",
              "<table border=\"1\" class=\"dataframe\">\n",
              "  <thead>\n",
              "    <tr style=\"text-align: right;\">\n",
              "      <th></th>\n",
              "      <th>Date</th>\n",
              "      <th>Open</th>\n",
              "      <th>High</th>\n",
              "      <th>Low</th>\n",
              "      <th>Close</th>\n",
              "      <th>Adj Close</th>\n",
              "      <th>Volume</th>\n",
              "    </tr>\n",
              "  </thead>\n",
              "  <tbody>\n",
              "    <tr>\n",
              "      <th>0</th>\n",
              "      <td>2019-01-02</td>\n",
              "      <td>154.889999</td>\n",
              "      <td>158.850006</td>\n",
              "      <td>154.229996</td>\n",
              "      <td>157.919998</td>\n",
              "      <td>154.794983</td>\n",
              "      <td>37039700</td>\n",
              "    </tr>\n",
              "    <tr>\n",
              "      <th>1</th>\n",
              "      <td>2019-01-03</td>\n",
              "      <td>143.979996</td>\n",
              "      <td>145.720001</td>\n",
              "      <td>142.000000</td>\n",
              "      <td>142.190002</td>\n",
              "      <td>139.376251</td>\n",
              "      <td>91312200</td>\n",
              "    </tr>\n",
              "    <tr>\n",
              "      <th>2</th>\n",
              "      <td>2019-01-04</td>\n",
              "      <td>144.529999</td>\n",
              "      <td>148.550003</td>\n",
              "      <td>143.800003</td>\n",
              "      <td>148.259995</td>\n",
              "      <td>145.326126</td>\n",
              "      <td>58607100</td>\n",
              "    </tr>\n",
              "    <tr>\n",
              "      <th>3</th>\n",
              "      <td>2019-01-07</td>\n",
              "      <td>148.699997</td>\n",
              "      <td>148.830002</td>\n",
              "      <td>145.899994</td>\n",
              "      <td>147.929993</td>\n",
              "      <td>145.002686</td>\n",
              "      <td>54777800</td>\n",
              "    </tr>\n",
              "    <tr>\n",
              "      <th>4</th>\n",
              "      <td>2019-01-08</td>\n",
              "      <td>149.559998</td>\n",
              "      <td>151.820007</td>\n",
              "      <td>148.520004</td>\n",
              "      <td>150.750000</td>\n",
              "      <td>147.766861</td>\n",
              "      <td>41025300</td>\n",
              "    </tr>\n",
              "  </tbody>\n",
              "</table>\n",
              "</div>"
            ],
            "text/plain": [
              "         Date        Open        High  ...       Close   Adj Close    Volume\n",
              "0  2019-01-02  154.889999  158.850006  ...  157.919998  154.794983  37039700\n",
              "1  2019-01-03  143.979996  145.720001  ...  142.190002  139.376251  91312200\n",
              "2  2019-01-04  144.529999  148.550003  ...  148.259995  145.326126  58607100\n",
              "3  2019-01-07  148.699997  148.830002  ...  147.929993  145.002686  54777800\n",
              "4  2019-01-08  149.559998  151.820007  ...  150.750000  147.766861  41025300\n",
              "\n",
              "[5 rows x 7 columns]"
            ]
          },
          "metadata": {
            "tags": []
          },
          "execution_count": 27
        }
      ]
    },
    {
      "cell_type": "code",
      "metadata": {
        "id": "PfwaPDLr0DYY",
        "colab_type": "code",
        "colab": {
          "base_uri": "https://localhost:8080/",
          "height": 282
        },
        "outputId": "baa39712-daa4-4dd1-edc0-9f18d7541779"
      },
      "source": [
        "plt.plot(data_test.Date,data_test.Open) #plot para os dados a serem utilizados como teste"
      ],
      "execution_count": 28,
      "outputs": [
        {
          "output_type": "execute_result",
          "data": {
            "text/plain": [
              "[<matplotlib.lines.Line2D at 0x7f71c7290390>]"
            ]
          },
          "metadata": {
            "tags": []
          },
          "execution_count": 28
        },
        {
          "output_type": "display_data",
          "data": {
            "image/png": "[encoded data removed]",
            "text/plain": [
              "<Figure size 432x288 with 1 Axes>"
            ]
          },
          "metadata": {
            "tags": [],
            "needs_background": "light"
          }
        }
      ]
    },
    {
      "cell_type": "code",
      "metadata": {
        "id": "d_Aep4V63P1o",
        "colab_type": "code",
        "colab": {}
      },
      "source": [
        "df_data_apple=data_test.iloc[:, 1:2].values"
      ],
      "execution_count": 29,
      "outputs": []
    },
    {
      "cell_type": "code",
      "metadata": {
        "id": "aSRHQY9S0SVl",
        "colab_type": "code",
        "colab": {}
      },
      "source": [
        "df_data_apple = pd.concat((data['Open'], data_test['Open']), axis=0)  # concatena os dados utilizados para teste e os utilizados para treinamento, tudo em um mesmo dataframe de 1 coluna\n"
      ],
      "execution_count": 30,
      "outputs": []
    },
    {
      "cell_type": "code",
      "metadata": {
        "id": "vxl-jhdZ0wN3",
        "colab_type": "code",
        "colab": {
          "base_uri": "https://localhost:8080/",
          "height": 119
        },
        "outputId": "dcec85b0-cc98-42e3-8f62-c3c9a11e9f9f"
      },
      "source": [
        "df_data_apple.head()"
      ],
      "execution_count": 31,
      "outputs": [
        {
          "output_type": "execute_result",
          "data": {
            "text/plain": [
              "0    79.117142\n",
              "1    78.268570\n",
              "2    76.709999\n",
              "3    74.571426\n",
              "4    75.601425\n",
              "Name: Open, dtype: float64"
            ]
          },
          "metadata": {
            "tags": []
          },
          "execution_count": 31
        }
      ]
    },
    {
      "cell_type": "code",
      "metadata": {
        "id": "cHguzy2S06t6",
        "colab_type": "code",
        "colab": {}
      },
      "source": [
        "test_inputs = df_data_apple[len(df_data_apple) - len(data_test) - 60:].values  \n"
      ],
      "execution_count": 32,
      "outputs": []
    },
    {
      "cell_type": "code",
      "metadata": {
        "id": "ZdyRMTYJ1l0v",
        "colab_type": "code",
        "colab": {}
      },
      "source": [
        "#normalização dos dados para teste, como fizemos com os dados de treinamento\n",
        "test_inputs = test_inputs.reshape(-1,1)  \n",
        "test_inputs = scaler.transform(test_inputs)  "
      ],
      "execution_count": 33,
      "outputs": []
    },
    {
      "cell_type": "code",
      "metadata": {
        "id": "W5JCdLpd1tuq",
        "colab_type": "code",
        "colab": {}
      },
      "source": [
        "#preparação dos 60 dados a setem utilizado\n",
        "test_features = []  \n",
        "for i in range(60, 80):  \n",
        "    test_features.append(test_inputs[i-60:i, 0])"
      ],
      "execution_count": 34,
      "outputs": []
    },
    {
      "cell_type": "code",
      "metadata": {
        "id": "ZS-mnPqk19LM",
        "colab_type": "code",
        "colab": {}
      },
      "source": [
        "#preparando os dados como entrada para o modelo de previsão \n",
        "test_features = np.array(test_features)  \n",
        "test_features = np.reshape(test_features, (test_features.shape[0], test_features.shape[1], 1)) "
      ],
      "execution_count": 35,
      "outputs": []
    },
    {
      "cell_type": "code",
      "metadata": {
        "id": "hio5Vu8T2EOS",
        "colab_type": "code",
        "colab": {}
      },
      "source": [
        "#previsão utilizando o modelo gerado \n",
        "previsao = model.predict(test_features)  "
      ],
      "execution_count": 36,
      "outputs": []
    },
    {
      "cell_type": "code",
      "metadata": {
        "id": "O2tSI9Uj2NGF",
        "colab_type": "code",
        "colab": {}
      },
      "source": [
        "#inverte a transformação (normalização) dos dados de previsão\n",
        "previsao = scaler.inverse_transform(previsao)"
      ],
      "execution_count": 37,
      "outputs": []
    },
    {
      "cell_type": "code",
      "metadata": {
        "id": "p1hylx6yCxLy",
        "colab_type": "code",
        "colab": {
          "base_uri": "https://localhost:8080/",
          "height": 404
        },
        "outputId": "3acf190e-7582-4d8c-f5ac-cce71597ad2f"
      },
      "source": [
        "#plot do resultado da previsão e do real\n",
        "plt.figure(figsize=(10,6))  \n",
        "plt.plot(data_test.Open, color='blue', label='Preço Real das Ações da Apple')  \n",
        "plt.plot(previsao , color='red', label='Previsão do Preço das Ações da Apple')  \n",
        "plt.title('Previsão do Preço de Abertura das Ações da Apple')  \n",
        "plt.xlabel('Data')  \n",
        "plt.ylabel('Preço')  \n",
        "plt.legend()  \n",
        "plt.show() "
      ],
      "execution_count": 38,
      "outputs": [
        {
          "output_type": "display_data",
          "data": {
            "image/png": "[encoded data removed]",
            "text/plain": [
              "<Figure size 720x432 with 1 Axes>"
            ]
          },
          "metadata": {
            "tags": [],
            "needs_background": "light"
          }
        }
      ]
    },
    {
      "cell_type": "code",
      "metadata": {
        "id": "bPEmrHXoqfBP",
        "colab_type": "code",
        "colab": {}
      },
      "source": [
        ""
      ],
      "execution_count": 38,
      "outputs": []
    }
  ]
}